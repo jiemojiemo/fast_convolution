{
 "cells": [
  {
   "cell_type": "code",
   "execution_count": 1,
   "id": "2dbba676-131e-40ae-86bd-8e643b0064bb",
   "metadata": {},
   "outputs": [],
   "source": [
    "import numpy as np\n",
    "import matplotlib.pylab as plt"
   ]
  },
  {
   "cell_type": "code",
   "execution_count": 2,
   "id": "29ca0bca-eb0f-42eb-b747-e54002123475",
   "metadata": {},
   "outputs": [],
   "source": [
    "def pad_zeros_to(x, new_length):\n",
    "    \"\"\"Append new_length - x.shape[0] zeros to x's end via copy.\"\"\"\n",
    "    output = np.zeros((new_length,))\n",
    "    output[:x.shape[0]] = x\n",
    "    return output\n",
    "\n",
    "def native_convolution(x, h):\n",
    "    if len(x) < len(h):\n",
    "        x, h = h, x\n",
    "        \n",
    "    M = len(x)\n",
    "    N = len(h)\n",
    "    \n",
    "    x = pad_zeros_to(x, M+2*(N-1))\n",
    "    x = np.roll(x, N-1)\n",
    "    \n",
    "    h = np.flip(h)\n",
    "    \n",
    "    y = np.zeros(M+N-1)\n",
    "    for i in range(len(y)):\n",
    "        y[i] = x[i:i+N].dot(h)\n",
    "        \n",
    "    return y\n",
    "\n",
    "def next_power_of_2(n):\n",
    "    return 1 << (int(np.log2(n - 1)) + 1)\n",
    "\n",
    "def fft_convolution(x, h, K=None):\n",
    "    Nx = x.shape[0]\n",
    "    Nh = h.shape[0]\n",
    "    Ny = Nx + Nh - 1\n",
    "    \n",
    "    if K is None:\n",
    "        K = next_power_of_2(Ny)\n",
    "        \n",
    "    X = np.fft.fft(pad_zeros_to(x, K))\n",
    "    H = np.fft.fft(pad_zeros_to(h, K))\n",
    "    \n",
    "    Y = X*H\n",
    "    \n",
    "    y = np.real(np.fft.ifft(Y))\n",
    "    \n",
    "    return y[:Ny]\n",
    "\n",
    "def overlap_add_convlution(x, h, B, K=None):\n",
    "    M = len(x)\n",
    "    N = len(h)\n",
    "    \n",
    "    num_input_blocks = np.ceil(M/B).astype(int)\n",
    "        \n",
    "    output_size = M + N - 1\n",
    "    y = np.zeros((output_size,))\n",
    "    \n",
    "    for n in range(num_input_blocks):\n",
    "        xb = x[n*B:(n+1)*B]\n",
    "        \n",
    "        u = fft_convolution(xb, h, K)\n",
    "        \n",
    "        y[n*B:n*B + len(u)] += u\n",
    "    \n",
    "    return y"
   ]
  },
  {
   "cell_type": "code",
   "execution_count": 3,
   "id": "1bd13180-486a-4fb1-b59b-39c4cb122458",
   "metadata": {},
   "outputs": [],
   "source": [
    "def overlap_save_convolution(x, h, B, K=None):\n",
    "    \"\"\"Overlap-Save convolution of x and h with block length B\"\"\"\n",
    "\n",
    "    M = len(x)\n",
    "    N = len(h)\n",
    "\n",
    "    if K is None:\n",
    "        K = next_power_of_2(B + N - 1)\n",
    "        # K = max(B, next_power_of_2(N))\n",
    "        \n",
    "    # Calculate the number of input blocks\n",
    "    num_input_blocks = np.ceil(M / B).astype(int) \\\n",
    "                     + np.ceil(K / B).astype(int) - 1\n",
    "\n",
    "    # Pad x to an integer multiple of B\n",
    "    xp = pad_zeros_to(x, num_input_blocks*B)\n",
    "\n",
    "    output_size = num_input_blocks * B + N - 1\n",
    "    y = np.zeros((output_size,))\n",
    "    \n",
    "    # Input buffer\n",
    "    xw = np.zeros((K,))\n",
    "\n",
    "    # Convolve all blocks\n",
    "    for n in range(num_input_blocks):\n",
    "        # Extract the n-th input block\n",
    "        xb = xp[n*B:n*B+B]\n",
    "\n",
    "        # Sliding window of the input\n",
    "        xw = np.roll(xw, -B)\n",
    "        xw[-B:] = xb\n",
    "\n",
    "        # Fast convolution\n",
    "        u = fft_convolution(xw, h, K)\n",
    "\n",
    "        # Save the valid output samples\n",
    "        y[n*B:n*B+B] = u[-B:]\n",
    "\n",
    "    return y[:M+N-1]"
   ]
  },
  {
   "cell_type": "code",
   "execution_count": 30,
   "id": "67462eee-6ce2-4c90-a56c-3b09f41f5650",
   "metadata": {},
   "outputs": [],
   "source": [
    "def realtime_uniformly_partitioned_convolution(x, h, B):\n",
    "    M = len(x)\n",
    "    N = len(h)\n",
    "    P = np.ceil(N/B).astype('int')\n",
    "    num_input_block = M//B\n",
    "    \n",
    "    print('num_input_block:',num_input_block)\n",
    "    \n",
    "    output = np.zeros(M)\n",
    "    \n",
    "    # precalculate sub filters fft\n",
    "    sub_filters_fft = np.zeros((P, 2*B), dtype=np.complex64)\n",
    "    for i in range(P):\n",
    "        sub_filter = h[i*B:i*B + B]\n",
    "        sub_filter_pad = pad_zeros_to(sub_filter, 2*B)\n",
    "        sub_filters_fft[i,:] = np.fft.fft(sub_filter_pad)\n",
    "        \n",
    "    \n",
    "    # input blocks\n",
    "    freq_delay_line = np.zeros_like(sub_filters_fft)\n",
    "    xw = np.zeros(2*B)\n",
    "    for i in range(num_input_block):\n",
    "        block_x = x[i*B:i*B + B]\n",
    "        xw = np.roll(xw, -B)\n",
    "        xw[-B:] = block_x\n",
    "        \n",
    "        xw_fft = np.fft.fft(xw)\n",
    "        \n",
    "        # inser fft into delay line\n",
    "        freq_delay_line = np.roll(freq_delay_line, 1, axis=0)\n",
    "        freq_delay_line[0,:] = xw_fft\n",
    "        print(freq_delay_line)\n",
    "\n",
    "        # ifft\n",
    "        s = (freq_delay_line*sub_filters_fft).sum(axis=0)\n",
    "        # print(s)\n",
    "        ifft = np.fft.ifft(s).real[-B:]\n",
    "        # print(o)\n",
    "        output[i*B:i*B + B] = ifft\n",
    "        \n",
    "    return output"
   ]
  },
  {
   "cell_type": "code",
   "execution_count": 31,
   "id": "6144284b-4976-4b1e-a3d6-3900a84bb260",
   "metadata": {},
   "outputs": [],
   "source": [
    "x = np.arange(12)\n",
    "h = np.arange(12)\n",
    "B = 4"
   ]
  },
  {
   "cell_type": "code",
   "execution_count": 32,
   "id": "cadccc3b-b6d3-4026-b3e0-cb23b923abd3",
   "metadata": {},
   "outputs": [
    {
     "name": "stdout",
     "output_type": "stream",
     "text": [
      "num_input_block: 3\n",
      "[[ 6.       +0.j          1.4142135+4.8284273j  -2.       +2.j\n",
      "  -1.4142135+0.82842714j -2.       +0.j         -1.4142135-0.82842714j\n",
      "  -2.       -2.j          1.4142135-4.8284273j ]\n",
      " [ 0.       +0.j          0.       +0.j          0.       +0.j\n",
      "   0.       +0.j          0.       +0.j          0.       +0.j\n",
      "   0.       +0.j          0.       +0.j        ]\n",
      " [ 0.       +0.j          0.       +0.j          0.       +0.j\n",
      "   0.       +0.j          0.       +0.j          0.       +0.j\n",
      "   0.       +0.j          0.       +0.j        ]]\n",
      "[[28.       +0.j         -4.       +9.656855j   -4.       +4.j\n",
      "  -4.       +1.6568543j  -4.       +0.j         -4.       -1.6568543j\n",
      "  -4.       -4.j         -4.       -9.656855j  ]\n",
      " [ 6.       +0.j          1.4142135+4.8284273j  -2.       +2.j\n",
      "  -1.4142135+0.82842714j -2.       +0.j         -1.4142135-0.82842714j\n",
      "  -2.       -2.j          1.4142135-4.8284273j ]\n",
      " [ 0.       +0.j          0.       +0.j          0.       +0.j\n",
      "   0.       +0.j          0.       +0.j          0.       +0.j\n",
      "   0.       +0.j          0.       +0.j        ]]\n",
      "[[60.       +0.j         -4.       +9.656855j   -4.       +4.j\n",
      "  -4.       +1.6568543j  -4.       +0.j         -4.       -1.6568543j\n",
      "  -4.       -4.j         -4.       -9.656855j  ]\n",
      " [28.       +0.j         -4.       +9.656855j   -4.       +4.j\n",
      "  -4.       +1.6568543j  -4.       +0.j         -4.       -1.6568543j\n",
      "  -4.       -4.j         -4.       -9.656855j  ]\n",
      " [ 6.       +0.j          1.4142135+4.8284273j  -2.       +2.j\n",
      "  -1.4142135+0.82842714j -2.       +0.j         -1.4142135-0.82842714j\n",
      "  -2.       -2.j          1.4142135-4.8284273j ]]\n"
     ]
    },
    {
     "data": {
      "text/plain": [
       "array([-7.15255737e-07, -4.87370253e-07,  9.99999881e-01,  4.00000039e+00,\n",
       "        1.00000007e+01,  2.00000007e+01,  3.50000000e+01,  5.59999996e+01,\n",
       "        8.39999995e+01,  1.19999999e+02,  1.64999997e+02,  2.19999998e+02])"
      ]
     },
     "execution_count": 32,
     "metadata": {},
     "output_type": "execute_result"
    }
   ],
   "source": [
    "realtime_uniformly_partitioned_convolution(x, h, B)"
   ]
  },
  {
   "cell_type": "code",
   "execution_count": 13,
   "id": "033fa666-b097-4829-9a4b-72134309c4a5",
   "metadata": {},
   "outputs": [
    {
     "data": {
      "text/plain": [
       "array([  0.,   0.,   1.,   4.,  10.,  20.,  35.,  56.,  84., 120., 165.,\n",
       "       220., 286., 340., 381., 408., 420., 416., 395., 356., 298., 220.,\n",
       "       121.])"
      ]
     },
     "execution_count": 13,
     "metadata": {},
     "output_type": "execute_result"
    }
   ],
   "source": [
    "native_convolution(x, h)"
   ]
  },
  {
   "cell_type": "code",
   "execution_count": 238,
   "id": "11e8b227-cd45-4144-936d-1f3b387393a7",
   "metadata": {},
   "outputs": [
    {
     "data": {
      "text/plain": [
       "array([[1, 1, 1],\n",
       "       [0, 0, 0],\n",
       "       [0, 0, 0]])"
      ]
     },
     "execution_count": 238,
     "metadata": {},
     "output_type": "execute_result"
    }
   ],
   "source": [
    "a = np.roll(a, 1, axis=0)\n",
    "a[0,:] = [1,1,1]\n",
    "a"
   ]
  },
  {
   "cell_type": "code",
   "execution_count": 239,
   "id": "948af25a-92d9-480a-b90f-2f591b915a8b",
   "metadata": {},
   "outputs": [
    {
     "data": {
      "text/plain": [
       "array([[2, 2, 2],\n",
       "       [1, 1, 1],\n",
       "       [0, 0, 0]])"
      ]
     },
     "execution_count": 239,
     "metadata": {},
     "output_type": "execute_result"
    }
   ],
   "source": [
    "a = np.roll(a, 1, axis=0)\n",
    "a[0,:] = [2,2,2]\n",
    "a"
   ]
  },
  {
   "cell_type": "code",
   "execution_count": 106,
   "id": "ba7586a8-cd6e-4bcb-83af-9627dcc55b55",
   "metadata": {},
   "outputs": [
    {
     "data": {
      "text/plain": [
       "array([  0.,   1.,   3.,   6.,  10.,  15.,  21.,  28.,  36.,  45.,  55.,\n",
       "        66.,  78.,  90., 102., 114., 110., 105.,  99.,  92.,  84.,  75.,\n",
       "        65.,  54.,  42.,  29.,  15.])"
      ]
     },
     "execution_count": 106,
     "metadata": {},
     "output_type": "execute_result"
    }
   ],
   "source": [
    "native_convolution(x, h)"
   ]
  },
  {
   "cell_type": "code",
   "execution_count": 107,
   "id": "bd417eab-e1f8-4940-815a-021d707d342c",
   "metadata": {},
   "outputs": [],
   "source": [
    "h0 = np.array([1,1,1,1])\n",
    "h1 = np.array([1,1,1,1])\n",
    "h2 = np.array([1,1,1,1])\n",
    "h0_pad = pad_zeros_to(h0, 2*B)\n",
    "h1_pad = pad_zeros_to(h1, 2*B)\n",
    "h2_pad = pad_zeros_to(h2, 2*B)"
   ]
  },
  {
   "cell_type": "code",
   "execution_count": 108,
   "id": "cc03fdb8-1b7a-497f-92f2-5a0683452cfc",
   "metadata": {},
   "outputs": [],
   "source": [
    "h0_fft = np.fft.fft(h0_pad)\n",
    "h1_fft = np.fft.fft(h1_pad)\n",
    "h2_fft = np.fft.fft(h2_pad)"
   ]
  },
  {
   "cell_type": "code",
   "execution_count": 109,
   "id": "e333939a-b104-4f4d-a824-2f95f624110f",
   "metadata": {},
   "outputs": [
    {
     "name": "stdout",
     "output_type": "stream",
     "text": [
      "[0. 1. 3. 6.]\n"
     ]
    }
   ],
   "source": [
    "xw = np.zeros(2*B)\n",
    "block_i = 0\n",
    "block_x = x[block_i*B:block_i*B + B]\n",
    "xw = np.roll(xw, -B)\n",
    "xw[-B:] = block_x\n",
    "xw_fft_0 = np.fft.fft(xw)\n",
    "\n",
    "s = xw_fft_0*h0_fft + 0*h1_fft + 0*h2_fft\n",
    "output = np.fft.ifft(s).real\n",
    "print(output[-B:])"
   ]
  },
  {
   "cell_type": "code",
   "execution_count": 110,
   "id": "17f3357e-1d98-44b8-bdd3-1003ef42f895",
   "metadata": {},
   "outputs": [
    {
     "name": "stdout",
     "output_type": "stream",
     "text": [
      "[10. 15. 21. 28.]\n"
     ]
    }
   ],
   "source": [
    "block_i = 1\n",
    "block_x = x[block_i*B:block_i*B + B]\n",
    "xw = np.roll(xw, -B)\n",
    "xw[-B:] = block_x\n",
    "xw_fft_1 = np.fft.fft(xw)\n",
    "\n",
    "s = xw_fft_1*h0_fft + xw_fft_0*h1_fft + 0*h2_fft\n",
    "output = np.fft.ifft(s).real\n",
    "printVector(output[-B:])"
   ]
  },
  {
   "cell_type": "code",
   "execution_count": 111,
   "id": "c658ac15-9fd1-4889-8ac2-3d41ceb59bd3",
   "metadata": {},
   "outputs": [
    {
     "data": {
      "text/plain": [
       "array([36., 45., 55., 66.])"
      ]
     },
     "execution_count": 111,
     "metadata": {},
     "output_type": "execute_result"
    }
   ],
   "source": [
    "block_i = 2\n",
    "block_x = x[block_i*B:block_i*B + B]\n",
    "xw = np.roll(xw, -B)\n",
    "xw[-B:] = block_x\n",
    "xw_fft_2 = np.fft.fft(xw)\n",
    "\n",
    "s = xw_fft_2*h0_fft + xw_fft_1*h1_fft + xw_fft_0*h2_fft\n",
    "output = np.fft.ifft(s).real\n",
    "output[-B:]"
   ]
  }
 ],
 "metadata": {
  "kernelspec": {
   "display_name": "Python 3 (ipykernel)",
   "language": "python",
   "name": "python3"
  },
  "language_info": {
   "codemirror_mode": {
    "name": "ipython",
    "version": 3
   },
   "file_extension": ".py",
   "mimetype": "text/x-python",
   "name": "python",
   "nbconvert_exporter": "python",
   "pygments_lexer": "ipython3",
   "version": "3.10.4"
  }
 },
 "nbformat": 4,
 "nbformat_minor": 5
}
